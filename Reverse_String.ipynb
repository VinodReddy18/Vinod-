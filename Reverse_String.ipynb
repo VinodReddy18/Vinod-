{
  "nbformat": 4,
  "nbformat_minor": 0,
  "metadata": {
    "colab": {
      "provenance": [],
      "authorship_tag": "ABX9TyMwRVC/R033SyzoC0Q16dQE",
      "include_colab_link": true
    },
    "kernelspec": {
      "name": "python3",
      "display_name": "Python 3"
    },
    "language_info": {
      "name": "python"
    }
  },
  "cells": [
    {
      "cell_type": "markdown",
      "metadata": {
        "id": "view-in-github",
        "colab_type": "text"
      },
      "source": [
        "<a href=\"https://colab.research.google.com/github/VinodReddy18/Vinod-/blob/main/Reverse_String.ipynb\" target=\"_parent\"><img src=\"https://colab.research.google.com/assets/colab-badge.svg\" alt=\"Open In Colab\"/></a>"
      ]
    },
    {
      "cell_type": "markdown",
      "source": [
        "reverse a string"
      ],
      "metadata": {
        "id": "Arunb1iYWgpI"
      }
    },
    {
      "cell_type": "code",
      "source": [
        "a = \"LetsUpgrade\"\n",
        "b = a[::-1]\n",
        "print(b)"
      ],
      "metadata": {
        "colab": {
          "base_uri": "https://localhost:8080/"
        },
        "id": "4UDJWKueWkSg",
        "outputId": "b7c0bfb3-b8a6-4b1c-ecf4-e0a0a7776ffe"
      },
      "execution_count": 1,
      "outputs": [
        {
          "output_type": "stream",
          "name": "stdout",
          "text": [
            "edargpUsteL\n"
          ]
        }
      ]
    },
    {
      "cell_type": "code",
      "source": [
        "a = \"LetsUpgrade\"\n",
        "result = \"\"\n",
        "for i in range(len(a)-1,-1,-1):\n",
        "    result = result + a[i]\n",
        "print(result)"
      ],
      "metadata": {
        "colab": {
          "base_uri": "https://localhost:8080/"
        },
        "id": "FYKtEDkXW_eJ",
        "outputId": "10232faf-ad9a-48c0-a5a8-f13b17f0768e"
      },
      "execution_count": 2,
      "outputs": [
        {
          "output_type": "stream",
          "name": "stdout",
          "text": [
            "edargpUsteL\n"
          ]
        }
      ]
    }
  ]
}